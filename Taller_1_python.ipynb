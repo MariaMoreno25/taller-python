{
  "nbformat": 4,
  "nbformat_minor": 0,
  "metadata": {
    "colab": {
      "provenance": []
    },
    "kernelspec": {
      "name": "python3",
      "display_name": "Python 3"
    },
    "language_info": {
      "name": "python"
    }
  },
  "cells": [
    {
      "cell_type": "markdown",
      "source": [
        "TALLER\n",
        "a) Crea un programa que tome una lista de números como entrada y devuelva la suma de todos los números en la lista.\n",
        "\n",
        "b) Escribe un programa que tome dos listas y devuelva una nueva lista que contenga todos los elementos que son comunes a ambas listas.\n",
        "\n",
        "c) Crea un programa que tome una lista de cadenas como entrada y devuelva la longitud de la cadena más larga en la lista.\n",
        "\n",
        "d) Escribe un programa que tome una lista de números como entrada y devuelva una nueva lista que contenga solo los números pares de la lista original.\n",
        "\n",
        "e) Crea un programa que tome una lista de cadenas como entrada y devuelva una nueva lista que contenga solo las cadenas que comienzan con la letra \"a\".\n",
        "\n",
        "f) Escribe un programa que tome un diccionario como entrada y devuelva el valor asociado con una clave dada.\n",
        "\n",
        "g) Crea un programa que tome una lista de diccionarios como entrada y devuelva una nueva lista que contenga solo los diccionarios que tienen una cierta clave.\n",
        "\n",
        "h) Escribe un programa que tome un diccionario como entrada y devuelva un nuevo diccionario con las claves y los valores intercambiados.\n",
        "\n",
        "i) Crea un programa que tome dos diccionarios como entrada y devuelva un nuevo diccionario que contenga solo los pares clave-valor que son comunes a ambos diccionarios.\n",
        "\n",
        "j) Escribe un programa que tome un diccionario como entrada y devuelva un nuevo diccionario con las claves ordenadas alfabéticamente.\n",
        "\n",
        "k) Escribe una función que tome dos números como entrada y devuelva su suma.\n",
        "\n",
        "l) Crea una función que tome una lista de cadenas como entrada y devuelva una nueva lista que contenga solo las cadenas que son más largas que una longitud dada.\n",
        "\n",
        "m) Escribe una función que tome una cadena como entrada y devuelva True si la cadena es un palíndromo, False en caso contrario.\n",
        "\n",
        "n) Crea una función que tome una lista de números como entrada y devuelva el promedio de todos los números en la lista.\n",
        "\n",
        "o) Escribe una función que tome un diccionario como entrada y devuelva una lista de todas las claves en el diccionario.\n",
        "\n",
        "p) Escribe un programa que tome una lista de números como entrada y devuelva el valor máximo en la lista.\n",
        "\n",
        "q) Crea un programa que tome una cadena como entrada y devuelva una nueva cadena que contenga solo las vocales en la cadena original.\n",
        "\n",
        "r) Escribe un programa que tome una lista de números como entrada y devuelva una nueva lista que contenga los valores al cuadrado de cada número en la lista original.\n",
        "\n",
        "s) Crea un programa que tome una cadena como entrada y devuelva una nueva cadena con los caracteres en orden inverso.\n",
        "\n",
        "t) Escribe un programa que tome una lista de cadenas como entrada y devuelva una nueva lista que contenga la longitud de cada cadena en la lista original."
      ],
      "metadata": {
        "id": "XwTV-xNe5DCE"
      }
    },
    {
      "cell_type": "markdown",
      "source": [
        "PAULA HORMAZA MONTENEGRO-63201104\n",
        "MARIA MORENO PARDO-63201110\n",
        "CRISTIAN ANDRES RODRIGUEZ-63162065 **texto en negrita**"
      ],
      "metadata": {
        "id": "az9SmpoMubJI"
      }
    },
    {
      "cell_type": "markdown",
      "source": [
        "A."
      ],
      "metadata": {
        "id": "MfTzpB7UJNsU"
      }
    },
    {
      "cell_type": "code",
      "source": [
        "lista=[1,2,3,4,5,6,7,8,9,10]\n",
        "suma_de_lista=sum(lista)\n",
        "print(suma_de_lista)\n"
      ],
      "metadata": {
        "colab": {
          "base_uri": "https://localhost:8080/"
        },
        "id": "jOVJlcCD6oVF",
        "outputId": "899b05c4-92d3-42f0-9de9-94a7a5532cdd"
      },
      "execution_count": null,
      "outputs": [
        {
          "output_type": "stream",
          "name": "stdout",
          "text": [
            "55\n"
          ]
        }
      ]
    },
    {
      "cell_type": "markdown",
      "source": [
        "B."
      ],
      "metadata": {
        "id": "f_X4WgEwJPZb"
      }
    },
    {
      "cell_type": "code",
      "source": [
        "lista = [1,2,3,4,5,8,2,3]\n",
        "lista2 = [9,5,3,6,4,2,9,1]\n",
        "lista3 = list(set(lista) & set(lista2))\n",
        "print(lista3)\n"
      ],
      "metadata": {
        "id": "ZI-DEeTr7Dlp",
        "colab": {
          "base_uri": "https://localhost:8080/"
        },
        "outputId": "ade18f43-8861-4576-eca9-a7b15bb40da5"
      },
      "execution_count": null,
      "outputs": [
        {
          "output_type": "stream",
          "name": "stdout",
          "text": [
            "[1, 2, 3, 4, 5]\n"
          ]
        }
      ]
    },
    {
      "cell_type": "markdown",
      "source": [
        "C."
      ],
      "metadata": {
        "id": "Yc8Kj9ZhJQzr"
      }
    },
    {
      "cell_type": "code",
      "source": [
        "def  Palabras(items):\n",
        "     Cadena = (i for i in items if isinstance(i, str))\n",
        "     Palabra_larga = max(Cadena, key=len)\n",
        "     return len (Palabra_larga)\n",
        "\n",
        "print(Palabras(['Econometria', 'Programacion', 'Python']))     "
      ],
      "metadata": {
        "colab": {
          "base_uri": "https://localhost:8080/"
        },
        "id": "0wF3ysVDNhwP",
        "outputId": "9bcd696c-43bb-4e13-c14c-fedd6e48d1df"
      },
      "execution_count": null,
      "outputs": [
        {
          "output_type": "stream",
          "name": "stdout",
          "text": [
            "12\n"
          ]
        }
      ]
    },
    {
      "cell_type": "markdown",
      "source": [
        "D."
      ],
      "metadata": {
        "id": "ilCd8hZ-OeLI"
      }
    },
    {
      "cell_type": "code",
      "source": [
        "def pares(lista):\n",
        "    pares = []\n",
        "    for i in lista:\n",
        "        if i%2 == 0:\n",
        "           pares.append(i)\n",
        "    return pares\n",
        "\n",
        "lista = [6, 15, 34, 9, 16, 7, 28, 21, 66]\n",
        "print('Los pares son:',pares(lista))           "
      ],
      "metadata": {
        "colab": {
          "base_uri": "https://localhost:8080/"
        },
        "id": "VD-Xsy67OfxA",
        "outputId": "a0c9cc31-9007-415e-e3b0-b24251a2db4c"
      },
      "execution_count": null,
      "outputs": [
        {
          "output_type": "stream",
          "name": "stdout",
          "text": [
            "Los pares son: [6, 34, 16, 28, 66]\n"
          ]
        }
      ]
    },
    {
      "cell_type": "markdown",
      "source": [
        "E."
      ],
      "metadata": {
        "id": "JU2KrDlpQMa4"
      }
    },
    {
      "cell_type": "code",
      "source": [
        "palabras=[\"Perro\", \"Abanico\", \"Gato\", \"Amanecer\", \"Abeja\"]\n",
        "for palabra in palabras:\n",
        "  if palabra[0]==\"A\":\n",
        "    print(palabra)"
      ],
      "metadata": {
        "colab": {
          "base_uri": "https://localhost:8080/"
        },
        "id": "ybVzs7PmQOs_",
        "outputId": "bd791359-2650-4a73-db3f-851a3095bb4e"
      },
      "execution_count": null,
      "outputs": [
        {
          "output_type": "stream",
          "name": "stdout",
          "text": [
            "Abanico\n",
            "Amanecer\n",
            "Abeja\n"
          ]
        }
      ]
    },
    {
      "cell_type": "markdown",
      "source": [
        "F."
      ],
      "metadata": {
        "id": "JjkeoxazRAKk"
      }
    },
    {
      "cell_type": "code",
      "source": [
        "def buscar_valor(diccionario, clave):\n",
        "  if clave in diccionario:\n",
        "    return diccionario[clave]\n",
        "  else:\n",
        "\n",
        "    print('Valor no encontrado')\n",
        "mi_diccionario = {'letras': ['L', 'M', 'N', 'O'], 'numero': [18, 23, 26], 'simbolos': ['$', '%', '?']}\n",
        "valor = buscar_valor(mi_diccionario, 'letras')\n",
        "print(valor)"
      ],
      "metadata": {
        "colab": {
          "base_uri": "https://localhost:8080/"
        },
        "id": "vSEI_7H6RKf3",
        "outputId": "44ae2dce-d7a9-4903-f1d8-231760007d0d"
      },
      "execution_count": null,
      "outputs": [
        {
          "output_type": "stream",
          "name": "stdout",
          "text": [
            "['L', 'M', 'N', 'O']\n"
          ]
        }
      ]
    },
    {
      "cell_type": "markdown",
      "source": [
        "G."
      ],
      "metadata": {
        "id": "lOkFEUpeTxoV"
      }
    },
    {
      "cell_type": "code",
      "source": [
        "def buscar_diccionarios(lista, clave):\n",
        "    resultado = []\n",
        "    for diccionario in lista:\n",
        "      if clave in diccionario:\n",
        "        resultado.append(diccionario)\n",
        "    return resultado\n",
        "\n",
        "lista1 = [{'carnivoro': 'leopardo', 'herbivoro': 'elefante'}, {'fruta': 'fresa', 'verdura': 'zanahoria'}]\n",
        "diccionarios_variedad = buscar_diccionarios(lista1, 'carnivoro')\n",
        "print(diccionarios_variedad)   \n"
      ],
      "metadata": {
        "colab": {
          "base_uri": "https://localhost:8080/"
        },
        "id": "5MakhAILTzNH",
        "outputId": "29964428-212a-458c-d571-ec24e9fd48c3"
      },
      "execution_count": null,
      "outputs": [
        {
          "output_type": "stream",
          "name": "stdout",
          "text": [
            "[{'carnivoro': 'leopardo', 'herbivoro': 'elefante'}]\n"
          ]
        }
      ]
    },
    {
      "cell_type": "markdown",
      "source": [
        "H."
      ],
      "metadata": {
        "id": "fO5zYySMVcYy"
      }
    },
    {
      "cell_type": "code",
      "source": [
        "def intercambiar (diccionario):\n",
        "  nuevo_diccionario = {}\n",
        "  for clave, valor in diccionario.items ():\n",
        "    nuevo_diccionario[valor] = clave\n",
        "  return nuevo_diccionario \n",
        "\n",
        "mi_diccionario = {'fruta':'papaya', 'verdura':'tomate', 'cereales':'frijol'}\n",
        "diccionario_invertido = intercambiar (mi_diccionario) \n",
        "print (diccionario_invertido)\n"
      ],
      "metadata": {
        "id": "Tp9dFCtZVeIA",
        "colab": {
          "base_uri": "https://localhost:8080/"
        },
        "outputId": "deb2d6d0-ba78-4276-e080-f0afbd14b099"
      },
      "execution_count": null,
      "outputs": [
        {
          "output_type": "stream",
          "name": "stdout",
          "text": [
            "{'papaya': 'fruta', 'tomate': 'verdura', 'frijol': 'cereales'}\n"
          ]
        }
      ]
    },
    {
      "cell_type": "markdown",
      "source": [
        "I."
      ],
      "metadata": {
        "id": "vz9H1k4XVrCj"
      }
    },
    {
      "cell_type": "code",
      "source": [
        "def los_pares_comunes(diccionario1, diccionario2):\n",
        "    pares_comunes = {}\n",
        "    for clave, valor in diccionario1.items():\n",
        "        if clave in diccionario2 and diccionario2[clave] == valor:\n",
        "            pares_comunes[clave] = valor\n",
        "    return pares_comunes\n",
        "\n",
        "mi_diccionario1 = {'nombre': 'paula', 'edad': 23, 'profesion': 'financista'}\n",
        "mi_diccionario2 = {'nombre': 'maria', 'ciudad': 'Bogota', 'profesion': 'financista'}\n",
        "pares_comunes = los_pares_comunes(mi_diccionario1, mi_diccionario2)\n",
        "print(pares_comunes)"
      ],
      "metadata": {
        "id": "XP4lLcXtVtEA",
        "colab": {
          "base_uri": "https://localhost:8080/"
        },
        "outputId": "4e8b8420-ca0e-46b8-8203-fdc25b4ead1d"
      },
      "execution_count": null,
      "outputs": [
        {
          "output_type": "stream",
          "name": "stdout",
          "text": [
            "{'profesion': 'financista'}\n"
          ]
        }
      ]
    },
    {
      "cell_type": "markdown",
      "source": [
        "J."
      ],
      "metadata": {
        "id": "E2obRP4PV8y4"
      }
    },
    {
      "cell_type": "code",
      "source": [
        "conjunto1={'simbolos': ['?', '$', '%'],\n",
        "           'numero': [7, 2, 4],\n",
        "           'letras': ['A', 'N', 'D']}\n",
        "keys=conjunto1.keys()\n",
        "print(keys)\n",
        "sorted_keys=sorted(keys)\n",
        "print(sorted_keys)           "
      ],
      "metadata": {
        "colab": {
          "base_uri": "https://localhost:8080/"
        },
        "id": "cv089TwYV-zs",
        "outputId": "0fea6bf3-a62c-4ebe-e3b6-8a1a40aaafe0"
      },
      "execution_count": null,
      "outputs": [
        {
          "output_type": "stream",
          "name": "stdout",
          "text": [
            "dict_keys(['simbolos', 'numero', 'letras'])\n",
            "['letras', 'numero', 'simbolos']\n"
          ]
        }
      ]
    },
    {
      "cell_type": "markdown",
      "source": [
        "K."
      ],
      "metadata": {
        "id": "qQQQVyWSXXRf"
      }
    },
    {
      "cell_type": "code",
      "source": [
        "def sumar_numeros(a, b, c):\n",
        "  return a + b + c\n",
        "num1 = 8\n",
        "num2 = 3\n",
        "num3 = 23\n",
        "print(sumar_numeros(num1, num2, num3))  "
      ],
      "metadata": {
        "colab": {
          "base_uri": "https://localhost:8080/"
        },
        "id": "I3bybcX4Xa8a",
        "outputId": "2c646fbc-2e96-4d72-9513-48946d412c65"
      },
      "execution_count": null,
      "outputs": [
        {
          "output_type": "stream",
          "name": "stdout",
          "text": [
            "34\n"
          ]
        }
      ]
    },
    {
      "cell_type": "markdown",
      "source": [
        "L."
      ],
      "metadata": {
        "id": "Viss_0x8X7Z6"
      }
    },
    {
      "cell_type": "code",
      "source": [
        "def filtrar_cadenas(lista_cadenas, longitud_minima):\n",
        "    nuevas_cadenas = []\n",
        "    for cadena in lista_cadenas:\n",
        "        if len(cadena) > longitud_minima:\n",
        "            nuevas_cadenas.append(cadena)\n",
        "    return nuevas_cadenas\n",
        "\n",
        "cadenas = ['sol', 'lluvia', 'luna llena', 'luna nueva']\n",
        "longitud_minima = 7\n",
        "resultado = filtrar_cadenas(cadenas, longitud_minima)\n",
        "print(resultado)"
      ],
      "metadata": {
        "id": "rW6vjyW6YHHy",
        "colab": {
          "base_uri": "https://localhost:8080/"
        },
        "outputId": "94e30848-7487-4697-a6e7-2c9fba993264"
      },
      "execution_count": null,
      "outputs": [
        {
          "output_type": "stream",
          "name": "stdout",
          "text": [
            "['luna llena', 'luna nueva']\n"
          ]
        }
      ]
    },
    {
      "cell_type": "markdown",
      "source": [
        "M."
      ],
      "metadata": {
        "id": "JXGO4ZfsYHga"
      }
    },
    {
      "cell_type": "code",
      "source": [
        "def palindromo(cadena):\n",
        "    cadena = cadena.lower().replace(\" \", \"\")\n",
        "    return cadena == cadena[::-1]\n",
        "cadena1 = \"mejor nadador profesional\"\n",
        "cadena2 = \"Somos o no somos\"\n",
        "print(palindromo(cadena1)) \n",
        "print(palindromo(cadena2))"
      ],
      "metadata": {
        "colab": {
          "base_uri": "https://localhost:8080/"
        },
        "id": "pb2X3NAgtPBU",
        "outputId": "66efc7a5-0e61-4930-f7e4-459591f1f8b0"
      },
      "execution_count": 31,
      "outputs": [
        {
          "output_type": "stream",
          "name": "stdout",
          "text": [
            "False\n",
            "True\n"
          ]
        }
      ]
    },
    {
      "cell_type": "markdown",
      "source": [
        "N."
      ],
      "metadata": {
        "id": "ojvgRqXqmbAC"
      }
    },
    {
      "cell_type": "code",
      "source": [
        "def promedio(lista):\n",
        "    if not lista:\n",
        "        return print('No contiene valores')\n",
        "    suma = sum(lista)\n",
        "    promedio = suma / len(lista)\n",
        "    return promedio\n",
        "\n",
        "\n",
        "lista1 = [12, 26, 6, 48, 19]\n",
        "print(promedio(lista1))"
      ],
      "metadata": {
        "colab": {
          "base_uri": "https://localhost:8080/"
        },
        "id": "0_N1o743ogmF",
        "outputId": "6a89f5f2-c54c-447c-b8ad-42dcecd1945e"
      },
      "execution_count": 16,
      "outputs": [
        {
          "output_type": "stream",
          "name": "stdout",
          "text": [
            "22.2\n"
          ]
        }
      ]
    },
    {
      "cell_type": "markdown",
      "source": [
        "O."
      ],
      "metadata": {
        "id": "hwdcDUMIoniL"
      }
    },
    {
      "cell_type": "code",
      "source": [
        "def obtener_claves(diccionario):\n",
        "    return list(diccionario.keys())\n",
        "\n",
        "mi_diccionario = {'letra': 'A', 'edad': 26, 'simbolo': '%'}\n",
        "print(obtener_claves(mi_diccionario))\n",
        "\n",
        "\"\"\"p. Escribe un programa que tome una lista de números como entrada y devuelva el valor máximo en la lista.\"\"\"\n",
        "\n",
        "def obtener_valor_maximo(lista):\n",
        "    return max(lista)\n",
        "\n",
        "mi_lista = [4, 9, 17, 25, 31]\n",
        "print(obtener_valor_maximo(mi_lista))"
      ],
      "metadata": {
        "colab": {
          "base_uri": "https://localhost:8080/"
        },
        "id": "a5Mik4FQov5Z",
        "outputId": "a4dad119-16eb-47de-85d1-01a791ac0f21"
      },
      "execution_count": 17,
      "outputs": [
        {
          "output_type": "stream",
          "name": "stdout",
          "text": [
            "['letra', 'edad', 'simbolo']\n",
            "31\n"
          ]
        }
      ]
    },
    {
      "cell_type": "markdown",
      "source": [
        "P."
      ],
      "metadata": {
        "id": "kXLiHouEswn3"
      }
    },
    {
      "cell_type": "code",
      "source": [
        "def obtener_valor_maximo(lista):\n",
        "    return max(lista)\n",
        "\n",
        "mi_lista = [5, 15, 25, 34, 78]\n",
        "print(obtener_valor_maximo(mi_lista))"
      ],
      "metadata": {
        "colab": {
          "base_uri": "https://localhost:8080/"
        },
        "id": "fgpO5jTNsxtZ",
        "outputId": "384d8f64-40cc-43dd-9881-601a710afb55"
      },
      "execution_count": 24,
      "outputs": [
        {
          "output_type": "stream",
          "name": "stdout",
          "text": [
            "78\n"
          ]
        }
      ]
    },
    {
      "cell_type": "markdown",
      "source": [
        "Q."
      ],
      "metadata": {
        "id": "iclUssPOpCuo"
      }
    },
    {
      "cell_type": "code",
      "source": [
        "def obtener_vocales(cadena):\n",
        "    vocales = \"aeiouAEIOU\"\n",
        "    vocales_encontradas = []\n",
        "    for caracter in cadena:\n",
        "        if caracter in vocales:\n",
        "            vocales_encontradas += caracter\n",
        "    return vocales_encontradas\n",
        "\n",
        "mi_cadena = \"la vida es CUESTA ARRIBA pero la vista es Genial\"\n",
        "print(obtener_vocales(mi_cadena))"
      ],
      "metadata": {
        "colab": {
          "base_uri": "https://localhost:8080/"
        },
        "id": "Y-muuEW3pD84",
        "outputId": "387942fd-00d4-4e4d-d0f0-c01dec7a3bf6"
      },
      "execution_count": 18,
      "outputs": [
        {
          "output_type": "stream",
          "name": "stdout",
          "text": [
            "['a', 'i', 'a', 'e', 'U', 'E', 'A', 'A', 'I', 'A', 'e', 'o', 'a', 'i', 'a', 'e', 'e', 'i', 'a']\n"
          ]
        }
      ]
    },
    {
      "cell_type": "markdown",
      "source": [
        "R."
      ],
      "metadata": {
        "id": "bgW336SApS-v"
      }
    },
    {
      "cell_type": "code",
      "source": [
        "lista4 = [9, 18, 23, 26, 30]\n",
        "def obtener_cuadrados(lista9):\n",
        "  lista_cuadrados = []\n",
        "  for numero in lista4:\n",
        "    lista_cuadrados.append(numero ** 2)\n",
        "  return lista_cuadrados\n",
        "print(obtener_cuadrados(lista4))    "
      ],
      "metadata": {
        "colab": {
          "base_uri": "https://localhost:8080/"
        },
        "id": "BCpw3wa5pZIK",
        "outputId": "bb54c637-db50-4939-c3ed-b31c49979d89"
      },
      "execution_count": 19,
      "outputs": [
        {
          "output_type": "stream",
          "name": "stdout",
          "text": [
            "[81, 324, 529, 676, 900]\n"
          ]
        }
      ]
    },
    {
      "cell_type": "markdown",
      "source": [
        "S."
      ],
      "metadata": {
        "id": "_0BcpKGWq0SX"
      }
    },
    {
      "cell_type": "code",
      "source": [
        "def invertir_cadena(cadena):\n",
        "    return cadena[::-1]\n",
        "\n",
        "cadena1 = \"La vida te da mil vueltas\"\n",
        "print(invertir_cadena(cadena1))"
      ],
      "metadata": {
        "colab": {
          "base_uri": "https://localhost:8080/"
        },
        "id": "37nz2HMjq1Uq",
        "outputId": "8237424a-d1bb-4435-d94a-6c9a45e9d425"
      },
      "execution_count": 21,
      "outputs": [
        {
          "output_type": "stream",
          "name": "stdout",
          "text": [
            "satleuv lim ad et adiv aL\n"
          ]
        }
      ]
    },
    {
      "cell_type": "markdown",
      "source": [
        "T."
      ],
      "metadata": {
        "id": "oU99i2pNrA1X"
      }
    },
    {
      "cell_type": "code",
      "source": [
        "lista5 = ['El', 'camino', 'al', 'exito', 'es', 'la', 'actitud']\n",
        "def longitud_cadenas(lista_cadenas):\n",
        "  longitudes = []\n",
        "  for cadena in lista_cadenas:\n",
        "    longitudes.append(len(cadena))\n",
        "    return longitudes\n",
        "\n",
        "longitudes = longitud_cadenas(lista5)\n",
        "print(longitudes)   "
      ],
      "metadata": {
        "colab": {
          "base_uri": "https://localhost:8080/"
        },
        "id": "nESDjAMqrDD4",
        "outputId": "0d136e9a-0bb1-478d-923f-cd9201ca052b"
      },
      "execution_count": 23,
      "outputs": [
        {
          "output_type": "stream",
          "name": "stdout",
          "text": [
            "[2]\n"
          ]
        }
      ]
    }
  ]
}